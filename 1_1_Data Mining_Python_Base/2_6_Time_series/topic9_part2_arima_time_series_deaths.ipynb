{
 "cells": [
  {
   "cell_type": "markdown",
   "metadata": {},
   "source": [
    "<center>\n",
    "<img src=\"../../img/ods_stickers.jpg\">\n",
    "## Отворен курс по машинно обучение\n",
    "</center>\n",
    "Автор на материала: програмист-изследовател в Mail.ru Group, старши преподавател във Факултета по компютърни науки на Висшето училище по икономика Юрий Кашницки. Изработено на базата на курса \"Изграждане на изводи от данни\" на специализацията \"Машинно обучение и анализ на данни\" на Yandex и MIPT"
   ]
  },
  {
   "cell_type": "markdown",
   "metadata": {},
   "source": [
    "# <center>Тема 9. Анализ на времеви редове в Python</center>\n",
    "## <center>Част 2. Смъртни случаи при злополука в Съединените щати</center>"
   ]
  },
  {
   "cell_type": "markdown",
   "metadata": {},
   "source": [
    "Известен е месечният брой на смъртните случаи поради злополуки в Съединените щати от януари 1973 г. до декември 1978 г., необходимо е да се изгради прогноза за следващите 2 години."
   ]
  },
  {
   "cell_type": "code",
   "execution_count": null,
   "metadata": {},
   "outputs": [],
   "source": [
    "import warnings\n",
    "\n",
    "warnings.filterwarnings(\"ignore\")\n",
    "\n",
    "%matplotlib inline\n",
    "from matplotlib import pyplot as plt\n",
    "\n",
    "plt.rcParams[\"figure.figsize\"] = 12, 10\n",
    "from itertools import product\n",
    "\n",
    "import matplotlib.pyplot as plt\n",
    "import pandas as pd\n",
    "import statsmodels.api as sm\n",
    "from scipy import stats\n",
    "\n",
    "\n",
    "def invboxcox(y, lmbda):\n",
    "    if lmbda == 0:\n",
    "        return np.exp(y)\n",
    "    else:\n",
    "        return np.exp(np.log(lmbda * y + 1) / lmbda)"
   ]
  },
  {
   "cell_type": "code",
   "execution_count": null,
   "metadata": {},
   "outputs": [],
   "source": [
    "deaths = pd.read_csv(\n",
    "    \"../../data/accidental-deaths-in-usa-monthly.csv\",\n",
    "    index_col=[\"Month\"],\n",
    "    parse_dates=[\"Month\"],\n",
    ")\n",
    "deaths.rename(\n",
    "    columns={\"Accidental deaths in USA: monthly, 1973 ? 1978\": \"num_deaths\"},\n",
    "    inplace=True,\n",
    ")\n",
    "deaths[\"num_deaths\"].plot()\n",
    "plt.ylabel(\"Accidental deaths\");"
   ]
  },
  {
   "cell_type": "markdown",
   "metadata": {},
   "source": [
    "Проверка на стационарност и STL разлагане на серия:"
   ]
  },
  {
   "cell_type": "code",
   "execution_count": null,
   "metadata": {},
   "outputs": [],
   "source": [
    "sm.tsa.seasonal_decompose(deaths[\"num_deaths\"]).plot()\n",
    "print(\n",
    "    \"Критерий Дики-Фуллера: p=%f\" % sm.tsa.stattools.adfuller(deaths[\"num_deaths\"])[1]\n",
    ")"
   ]
  },
  {
   "cell_type": "markdown",
   "metadata": {},
   "source": [
    "### Стационарност"
   ]
  },
  {
   "cell_type": "markdown",
   "metadata": {},
   "source": [
    "Критерият на Дики-Фулър не отхвърля хипотезата за нестационарност, но остава малка тенденция. Нека опитаме сезонна диференциация; Нека направим STL декомпозиция върху диференцираните серии и проверим стационарността:\n"
   ]
  },
  {
   "cell_type": "code",
   "execution_count": null,
   "metadata": {},
   "outputs": [],
   "source": [
    "deaths[\"num_deaths_diff\"] = deaths[\"num_deaths\"] - deaths[\"num_deaths\"].shift(12)\n",
    "sm.tsa.seasonal_decompose(deaths[\"num_deaths_diff\"][12:]).plot()\n",
    "print(\n",
    "    \"Тест на Дики-Фулър: p=%f\"\n",
    "    % sm.tsa.stattools.adfuller(deaths[\"num_deaths_diff\"][12:])[1]\n",
    ")"
   ]
  },
  {
   "cell_type": "markdown",
   "metadata": {},
   "source": [
    "Критерият на Дики-Фулър отхвърля хипотезата за нестационарност, но не беше възможно напълно да се отървем от тенденцията. Нека се опитаме да добавим малко по-обикновено разграничение:"
   ]
  },
  {
   "cell_type": "code",
   "execution_count": 1,
   "metadata": {},
   "outputs": [
    {
     "ename": "NameError",
     "evalue": "name 'deaths' is not defined",
     "output_type": "error",
     "traceback": [
      "\u001b[0;31m---------------------------------------------------------------------------\u001b[0m",
      "\u001b[0;31mNameError\u001b[0m                                 Traceback (most recent call last)",
      "Cell \u001b[0;32mIn[1], line 1\u001b[0m\n\u001b[0;32m----> 1\u001b[0m deaths[\u001b[38;5;124m\"\u001b[39m\u001b[38;5;124mnum_deaths_diff2\u001b[39m\u001b[38;5;124m\"\u001b[39m] \u001b[38;5;241m=\u001b[39m deaths[\u001b[38;5;124m\"\u001b[39m\u001b[38;5;124mnum_deaths_diff\u001b[39m\u001b[38;5;124m\"\u001b[39m] \u001b[38;5;241m-\u001b[39m deaths[\n\u001b[1;32m      2\u001b[0m     \u001b[38;5;124m\"\u001b[39m\u001b[38;5;124mnum_deaths_diff\u001b[39m\u001b[38;5;124m\"\u001b[39m\n\u001b[1;32m      3\u001b[0m ]\u001b[38;5;241m.\u001b[39mshift(\u001b[38;5;241m1\u001b[39m)\n\u001b[1;32m      4\u001b[0m sm\u001b[38;5;241m.\u001b[39mtsa\u001b[38;5;241m.\u001b[39mseasonal_decompose(deaths[\u001b[38;5;124m\"\u001b[39m\u001b[38;5;124mnum_deaths_diff2\u001b[39m\u001b[38;5;124m\"\u001b[39m][\u001b[38;5;241m13\u001b[39m:])\u001b[38;5;241m.\u001b[39mplot()\n\u001b[1;32m      5\u001b[0m \u001b[38;5;28mprint\u001b[39m(\n\u001b[1;32m      6\u001b[0m     \u001b[38;5;124m\"\u001b[39m\u001b[38;5;124mТест на Дики-Фулър: p=\u001b[39m\u001b[38;5;132;01m%f\u001b[39;00m\u001b[38;5;124m\"\u001b[39m\n\u001b[1;32m      7\u001b[0m     \u001b[38;5;241m%\u001b[39m sm\u001b[38;5;241m.\u001b[39mtsa\u001b[38;5;241m.\u001b[39mstattools\u001b[38;5;241m.\u001b[39madfuller(deaths[\u001b[38;5;124m\"\u001b[39m\u001b[38;5;124mnum_deaths_diff2\u001b[39m\u001b[38;5;124m\"\u001b[39m][\u001b[38;5;241m13\u001b[39m:])[\u001b[38;5;241m1\u001b[39m]\n\u001b[1;32m      8\u001b[0m )\n",
      "\u001b[0;31mNameError\u001b[0m: name 'deaths' is not defined"
     ]
    }
   ],
   "source": [
    "deaths[\"num_deaths_diff2\"] = deaths[\"num_deaths_diff\"] - deaths[\n",
    "    \"num_deaths_diff\"\n",
    "].shift(1)\n",
    "sm.tsa.seasonal_decompose(deaths[\"num_deaths_diff2\"][13:]).plot()\n",
    "print(\n",
    "    \"Тест на Дики-Фулър: p=%f\"\n",
    "    % sm.tsa.stattools.adfuller(deaths[\"num_deaths_diff2\"][13:])[1]\n",
    ")"
   ]
  },
  {
   "cell_type": "markdown",
   "metadata": {},
   "source": [
    "Хипотезата за нестационарност е уверено отхвърлена и визуално серията изглежда по-добре - вече няма тенденция."
   ]
  },
  {
   "cell_type": "markdown",
   "metadata": {},
   "source": [
    "## Избор на модел"
   ]
  },
  {
   "cell_type": "markdown",
   "metadata": {},
   "source": [
    "Нека да разгледаме ACF и PACF на получената серия:"
   ]
  },
  {
   "cell_type": "code",
   "execution_count": null,
   "metadata": {},
   "outputs": [],
   "source": [
    "ax = plt.subplot(211)\n",
    "sm.graphics.tsa.plot_acf(\n",
    "    deaths[\"num_deaths_diff2\"][13:].values.squeeze(), lags=58, ax=ax\n",
    ")\n",
    "ax = plt.subplot(212)\n",
    "sm.graphics.tsa.plot_pacf(\n",
    "    deaths[\"num_deaths_diff2\"][13:].values.squeeze(), lags=58, ax=ax\n",
    ");"
   ]
  },
  {
   "cell_type": "markdown",
   "metadata": {},
   "source": [
    "Първоначални приближения: Q=2, q=1, P=2, p=2"
   ]
  },
  {
   "cell_type": "code",
   "execution_count": null,
   "metadata": {},
   "outputs": [],
   "source": [
    "ps = range(0, 3)\n",
    "d = 1\n",
    "qs = range(0, 1)\n",
    "Ps = range(0, 3)\n",
    "D = 1\n",
    "Qs = range(0, 3)"
   ]
  },
  {
   "cell_type": "code",
   "execution_count": null,
   "metadata": {},
   "outputs": [],
   "source": [
    "parameters = product(ps, qs, Ps, Qs)\n",
    "parameters_list = list(parameters)\n",
    "len(parameters_list)"
   ]
  },
  {
   "cell_type": "code",
   "execution_count": null,
   "metadata": {},
   "outputs": [],
   "source": [
    "%%time\n",
    "results = []\n",
    "best_aic = float(\"inf\")\n",
    "\n",
    "\n",
    "for param in parameters_list:\n",
    "# опит освен е необходим, защото моделът не е обучен на някои набори от параметри\n",
    "    try:\n",
    "        model = sm.tsa.statespace.SARIMAX(\n",
    "            deaths[\"num_deaths\"],\n",
    "            order=(param[0], d, param[1]),\n",
    "            seasonal_order=(param[2], D, param[3], 12),\n",
    "        ).fit(disp=-1)\n",
    "# показване на параметрите, на които моделът не е обучен и преминаване към следващия набор\n",
    "    except ValueError:\n",
    "        print(\"wrong parameters:\", param)\n",
    "        continue\n",
    "    aic = model.aic\n",
    "# запазете най-добрия модел, aic, параметри\n",
    "    if aic < best_aic:\n",
    "        best_model = model\n",
    "        best_aic = aic\n",
    "        best_param = param\n",
    "    results.append([param, model.aic])\n",
    "\n",
    "warnings.filterwarnings(\"default\")"
   ]
  },
  {
   "cell_type": "markdown",
   "metadata": {},
   "source": [
    "Ако възникне грешка в предишната клетка, не забравяйте да актуализирате statsmodels поне до версия 0.8.0rc1."
   ]
  },
  {
   "cell_type": "code",
   "execution_count": null,
   "metadata": {},
   "outputs": [],
   "source": [
    "result_table = pd.DataFrame(results)\n",
    "result_table.columns = [\"parameters\", \"aic\"]\n",
    "print(result_table.sort_values(by=\"aic\", ascending=True).head())"
   ]
  },
  {
   "cell_type": "markdown",
   "metadata": {},
   "source": [
    "Най-добър модел:\n"
   ]
  },
  {
   "cell_type": "code",
   "execution_count": null,
   "metadata": {},
   "outputs": [],
   "source": [
    "print(best_model.summary())"
   ]
  },
  {
   "cell_type": "markdown",
   "metadata": {},
   "source": [
    "Неговите останки:"
   ]
  },
  {
   "cell_type": "code",
   "execution_count": null,
   "metadata": {},
   "outputs": [],
   "source": [
    "plt.subplot(211)\n",
    "best_model.resid[13:].plot()\n",
    "plt.ylabel(u\"Residuals\")\n",
    "\n",
    "ax = plt.subplot(212)\n",
    "sm.graphics.tsa.plot_acf(best_model.resid[13:].values.squeeze(), lags=48, ax=ax)\n",
    "\n",
    "print(\"Критерий Стьюдента: p=%f\" % stats.ttest_1samp(best_model.resid[13:], 0)[1])\n",
    "print(\n",
    "    \"Критерий Дики-Фуллера: p=%f\" % sm.tsa.stattools.adfuller(best_model.resid[13:])[1]\n",
    ")"
   ]
  },
  {
   "cell_type": "markdown",
   "metadata": {},
   "source": [
    "Остатъчните стойности са безпристрастни (потвърдени от теста на Стюдънт), стационарни (потвърдени от теста на Дики-Фулър и визуално) и неавтокорелирани (потвърдени от теста на Люнг-Бокс и корелограмата).\n",
    "Нека да видим колко добре моделът описва данните:"
   ]
  },
  {
   "cell_type": "code",
   "execution_count": null,
   "metadata": {},
   "outputs": [],
   "source": [
    "deaths[\"model\"] = best_model.fittedvalues\n",
    "deaths[\"num_deaths\"].plot()\n",
    "deaths[\"model\"][13:].plot(color=\"r\")\n",
    "plt.ylabel(\"Accidental deaths\");"
   ]
  },
  {
   "cell_type": "markdown",
   "metadata": {},
   "source": [
    "### Прогноза"
   ]
  },
  {
   "cell_type": "code",
   "execution_count": null,
   "metadata": {},
   "outputs": [],
   "source": [
    "from dateutil.relativedelta import relativedelta\n",
    "\n",
    "deaths2 = deaths[[\"num_deaths\"]]\n",
    "date_list = [\n",
    "    pd.datetime.strptime(\"1979-01-01\", \"%Y-%m-%d\") + relativedelta(months=x)\n",
    "    for x in range(0, 24)\n",
    "]\n",
    "future = pd.DataFrame(index=date_list, columns=deaths2.columns)\n",
    "deaths2 = pd.concat([deaths2, future])\n",
    "deaths2[\"forecast\"] = best_model.predict(start=72, end=100)\n",
    "\n",
    "deaths2[\"num_deaths\"].plot(color=\"b\")\n",
    "deaths2[\"forecast\"].plot(color=\"r\")\n",
    "plt.ylabel(\"Accidental deaths\");"
   ]
  }
 ],
 "metadata": {
  "kernelspec": {
   "display_name": "Python 3 (ipykernel)",
   "language": "python",
   "name": "python3"
  },
  "language_info": {
   "codemirror_mode": {
    "name": "ipython",
    "version": 3
   },
   "file_extension": ".py",
   "mimetype": "text/x-python",
   "name": "python",
   "nbconvert_exporter": "python",
   "pygments_lexer": "ipython3",
   "version": "3.11.5"
  }
 },
 "nbformat": 4,
 "nbformat_minor": 1
}
