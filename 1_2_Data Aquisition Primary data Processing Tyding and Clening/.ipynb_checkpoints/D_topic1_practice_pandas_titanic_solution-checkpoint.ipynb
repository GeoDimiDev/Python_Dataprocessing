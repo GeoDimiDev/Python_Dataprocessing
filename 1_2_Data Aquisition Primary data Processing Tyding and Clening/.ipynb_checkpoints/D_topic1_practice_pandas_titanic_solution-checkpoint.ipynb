{
 "cells": [
  {
   "cell_type": "markdown",
   "metadata": {},
   "source": [
    "<center>\n",
    "<img src=\"../../img/ods_stickers.jpg\" />\n",
    "    \n",
    "## [mlcourse.ai](https://mlcourse.ai) – Отворен курс за машинно обучение\n",
    "\n",
    "Автор: [Юрий Кашницки](https://yorko.github.io). Този материал е предмет на правилата и условията на лиценза [Creative Commons CC BY-NC-SA 4.0](https://creativecommons.org/licenses/by-nc-sa/4.0/). Безплатното използване е разрешено за всякакви нетърговски цели."
   ]
  },
  {
   "cell_type": "markdown",
   "metadata": {},
   "source": [
    "# <center> Тема 1. Проучвателен анализ на данни с Pandas\n",
    "## <center>Практика. Анализ на пътниците на \"Титаник\". Решение\n",
    "\n",
    "**Попълнете липсващия код („Вашият код тук“) и изберете отговори в [уеб формуляр](https://docs.google.com/forms/d/16EfhpDGPrREry0gfDQdRPjoiQX9IumaL2mPR0rcj19k/edit).**"
   ]
  },
  {
   "cell_type": "code",
   "execution_count": null,
   "metadata": {},
   "outputs": [],
   "source": [
    "import numpy as np\n",
    "import pandas as pd\n",
    "\n",
    "pd.set_option(\"display.precision\", 2)\n",
    "from matplotlib import pyplot as plt\n",
    "\n",
    "# Graphics in SVG format are more sharp and legible\n",
    "%config InlineBackend.figure_format = 'svg'"
   ]
  },
  {
   "cell_type": "markdown",
   "metadata": {},
   "source": [
    "**Четене на данни в Pandas DataFrame**"
   ]
  },
  {
   "cell_type": "code",
   "execution_count": null,
   "metadata": {},
   "outputs": [],
   "source": [
    "data = pd.read_csv(\"../../data/titanic_train.csv\", index_col=\"PassengerId\")"
   ]
  },
  {
   "cell_type": "markdown",
   "metadata": {},
   "source": [
    "**Първите 5 реда**"
   ]
  },
  {
   "cell_type": "code",
   "execution_count": null,
   "metadata": {},
   "outputs": [],
   "source": [
    "data.head(5)"
   ]
  },
  {
   "cell_type": "code",
   "execution_count": null,
   "metadata": {},
   "outputs": [],
   "source": [
    "data.describe()"
   ]
  },
  {
   "cell_type": "markdown",
   "metadata": {},
   "source": [
    "**Нека изберем онези пътници, които са се качили в Шербур (Embarked=C) и са платили > 200 паунда за своя тикер (тарифа > 200).**\n",
    "\n",
    "Уверете се, че разбирате как всъщност работи тази конструкция."
   ]
  },
  {
   "cell_type": "code",
   "execution_count": null,
   "metadata": {},
   "outputs": [],
   "source": [
    "data[(data[\"Embarked\"] == \"C\") & (data.Fare > 200)].head()"
   ]
  },
  {
   "cell_type": "markdown",
   "metadata": {},
   "source": [
    "**Можем да сортираме тези хора по цена в низходящ ред.**"
   ]
  },
  {
   "cell_type": "code",
   "execution_count": null,
   "metadata": {},
   "outputs": [],
   "source": [
    "data[(data[\"Embarked\"] == \"C\") & (data[\"Fare\"] > 200)].sort_values(\n",
    "    by=\"Fare\", ascending=False\n",
    ").head()"
   ]
  },
  {
   "cell_type": "markdown",
   "metadata": {},
   "source": [
    "**Нека създадем нова функция.**"
   ]
  },
  {
   "cell_type": "code",
   "execution_count": null,
   "metadata": {},
   "outputs": [],
   "source": [
    "def age_category(age):\n",
    "    \"\"\"\n",
    "    < 30 -> 1\n",
    "    >= 30, <55 -> 2\n",
    "    >= 55 -> 3\n",
    "    \"\"\"\n",
    "    if age < 30:\n",
    "        return 1\n",
    "    elif age < 55:\n",
    "        return 2\n",
    "    elif age >= 55:\n",
    "        return 3"
   ]
  },
  {
   "cell_type": "code",
   "execution_count": null,
   "metadata": {},
   "outputs": [],
   "source": [
    "age_categories = [age_category(age) for age in data.Age]\n",
    "data[\"Age_category\"] = age_categories"
   ]
  },
  {
   "cell_type": "markdown",
   "metadata": {},
   "source": [
    "**Друг начин е да го направите с `apply`.**"
   ]
  },
  {
   "cell_type": "code",
   "execution_count": null,
   "metadata": {},
   "outputs": [],
   "source": [
    "data[\"Age_category\"] = data[\"Age\"].apply(age_category)"
   ]
  },
  {
   "cell_type": "markdown",
   "metadata": {},
   "source": [
    "**1. Колко мъже/жени имаше на борда?**\n",
    "- 412 мъже и 479 жени\n",
    "- 314 мъже и 577 жени\n",
    "- 479 мъже и 412 жени\n",
    "- **<font color='green'>577 мъже и 314 жени [+]</font>**"
   ]
  },
  {
   "cell_type": "code",
   "execution_count": null,
   "metadata": {},
   "outputs": [],
   "source": [
    "(data[\"Sex\"] == \"male\").sum(), (data[\"Sex\"] == \"female\").sum()"
   ]
  },
  {
   "cell_type": "markdown",
   "metadata": {},
   "source": [
    "**Easier:**"
   ]
  },
  {
   "cell_type": "code",
   "execution_count": null,
   "metadata": {},
   "outputs": [],
   "source": [
    "data[\"Sex\"].value_counts()"
   ]
  },
  {
   "cell_type": "markdown",
   "metadata": {},
   "source": [
    "**2. Отпечатайте разпространението на функцията `Pclass`. След това същото, но за мъжете и жените отделно. Колко мъже от втора класа имаше на борда?**\n",
    "- 104\n",
    "- **<font color='green'>108 [+]</font>**\n",
    "- 112\n",
    "- 125"
   ]
  },
  {
   "cell_type": "code",
   "execution_count": null,
   "metadata": {},
   "outputs": [],
   "source": [
    "pd.crosstab(data[\"Pclass\"], data[\"Sex\"], margins=True)"
   ]
  },
  {
   "cell_type": "markdown",
   "metadata": {},
   "source": [
    "Можем да начертаем и картина, но тук не е необходимо."
   ]
  },
  {
   "cell_type": "code",
   "execution_count": null,
   "metadata": {},
   "outputs": [],
   "source": [
    "data[\"Pclass\"].hist(label=\"all\")\n",
    "data[data[\"Sex\"] == \"male\"][\"Pclass\"].hist(color=\"green\", label=\"male\")\n",
    "data[data[\"Sex\"] == \"female\"][\"Pclass\"].hist(color=\"yellow\", label=\"female\")\n",
    "plt.title(\"Distribution by class and gender.\")\n",
    "plt.xlabel(\"Pclass\")\n",
    "plt.ylabel(\"Frequency\")\n",
    "plt.legend(loc=\"upper left\");"
   ]
  },
  {
   "cell_type": "markdown",
   "metadata": {},
   "source": [
    "**3. Какво представляват медианата и стандартното отклонение на „тарифа“?. Закръглете до втори знак след десетичната запетая.**\n",
    "- **<font color='green'>медианата е 14,45, стандартното отклонение е 49,69 [+]</font>**\n",
    "- медианата е 15,1, стандартното отклонение е 12,15\n",
    "- медианата е 13,15, стандартното отклонение е 35,3\n",
    "- медианата е 17,43, стандартното отклонение е 39,1"
   ]
  },
  {
   "cell_type": "code",
   "execution_count": null,
   "metadata": {},
   "outputs": [],
   "source": [
    "print(\"Median fare: \", round(data[\"Fare\"].median(), 2))\n",
    "print(\"Fare std: \", round(data[\"Fare\"].std(), 2))"
   ]
  },
  {
   "cell_type": "markdown",
   "metadata": {},
   "source": [
    "**4. Вярно ли е, че средната възраст на оцелелите хора е по-висока от тази на пътниците, които в крайна сметка са починали?**\n",
    "- да\n",
    "- **<font color='green'>Не [+]</font>**"
   ]
  },
  {
   "cell_type": "code",
   "execution_count": null,
   "metadata": {},
   "outputs": [],
   "source": [
    "data[data[\"Survived\"] == 1][\"Age\"].hist(\n",
    "    color=\"green\", label=\"Survived\", alpha=0.5, density=True\n",
    ")\n",
    "data[data[\"Survived\"] == 0][\"Age\"].hist(\n",
    "    color=\"red\", label=\"Died\", alpha=0.5, density=True\n",
    ")\n",
    "plt.title(\"Age for survived and died\")\n",
    "plt.xlabel(\"Years\")\n",
    "plt.ylabel(\"Frequency\")\n",
    "plt.legend();"
   ]
  },
  {
   "cell_type": "code",
   "execution_count": null,
   "metadata": {},
   "outputs": [],
   "source": [
    "#!pip install seaborn\n",
    "import seaborn as sns\n",
    "\n",
    "sns.set()"
   ]
  },
  {
   "cell_type": "code",
   "execution_count": null,
   "metadata": {},
   "outputs": [],
   "source": [
    "sns.boxplot(data[\"Survived\"], data[\"Age\"]);"
   ]
  },
  {
   "cell_type": "markdown",
   "metadata": {},
   "source": [
    "Не мога да забележа разликата само чрез притискане на очите. Нека изчислим."
   ]
  },
  {
   "cell_type": "code",
   "execution_count": null,
   "metadata": {},
   "outputs": [],
   "source": [
    "data.groupby(\"Survived\")[\"Age\"].mean()"
   ]
  },
  {
   "cell_type": "markdown",
   "metadata": {},
   "source": [
    "**5. Вярно ли е, че пътници под 30 г. оцеляват по-често от тези на възраст над 60 години? Какъв е дялът на оцелелите сред младите и старите?**\n",
    "- 22,7% сред младите и 40,6% сред старите\n",
    "- **<font color='green'>40,6% сред младите и 22,7% сред старите [+]</font>**\n",
    "- 35,3% сред младите и 27,4% сред старите\n",
    "- 27,4% сред младите и 35,3% сред старите"
   ]
  },
  {
   "cell_type": "code",
   "execution_count": null,
   "metadata": {},
   "outputs": [],
   "source": [
    "young_survived = data.loc[data[\"Age\"] < 30, \"Survived\"]\n",
    "old_survived = data.loc[data[\"Age\"] > 60, \"Survived\"]\n",
    "\n",
    "print(\n",
    "    \"Shares of survived people: \\n\\t  among young {}%, \\n\\t  among old {}%.\".format(\n",
    "        round(100 * young_survived.mean(), 1), round(100 * old_survived.mean(), 1)\n",
    "    )\n",
    ")"
   ]
  },
  {
   "cell_type": "markdown",
   "metadata": {},
   "source": [
    "**6. Вярно ли е, че жените оцеляват по-често от мъжете? Какъв е дялът на оцелелите сред мъжете и жените?**\n",
    "- 30,2% при мъжете и 46,2% при жените\n",
    "- 35,7% при мъжете и 74,2% при жените\n",
    "- 21,1% при мъжете и 46,2% при жените\n",
    "- **<font color='green'>18,9% сред мъжете и 74,2% сред жените [+]</font>**"
   ]
  },
  {
   "cell_type": "code",
   "execution_count": null,
   "metadata": {},
   "outputs": [],
   "source": [
    "male_survived = data[data[\"Sex\"] == \"male\"][\"Survived\"]\n",
    "female_survived = data[data[\"Sex\"] == \"female\"][\"Survived\"]\n",
    "\n",
    "\n",
    "print(\n",
    "    \"Shares of survived people: \\n\\t among women {}%, \\n\\t among men {}%\".format(\n",
    "        round(100 * female_survived.mean(), 1), round(100 * male_survived.mean(), 1)\n",
    "    )\n",
    ")"
   ]
  },
  {
   "cell_type": "markdown",
   "metadata": {},
   "source": [
    "**7. Кое е най-популярното име сред мъжете пътници?**\n",
    "- Чарлз\n",
    "- Томас\n",
    "- **<font color='green'>Уилям [+]</font>**\n",
    "- Джон"
   ]
  },
  {
   "cell_type": "code",
   "execution_count": null,
   "metadata": {},
   "outputs": [],
   "source": [
    "data[\"Name\"].head()"
   ]
  },
  {
   "cell_type": "code",
   "execution_count": null,
   "metadata": {},
   "outputs": [],
   "source": [
    "data.loc[1, \"Name\"].split(\",\")[1].split()[1]"
   ]
  },
  {
   "cell_type": "code",
   "execution_count": null,
   "metadata": {},
   "outputs": [],
   "source": [
    "first_names = data.loc[data[\"Sex\"] == \"male\", \"Name\"].apply(\n",
    "    lambda full_name: full_name.split(\",\")[1].split()[1]\n",
    ")\n",
    "first_names.value_counts().head()"
   ]
  },
  {
   "cell_type": "markdown",
   "metadata": {},
   "source": [
    "**8. Как средната възраст за мъже/жени зависи от „Pclass“? Изберете всички верни твърдения:**\n",
    "- **<font color='green'>Средно мъжете от 1 клас са над 40 години [+]</font>**\n",
    "- Средно жените от 1 клас са над 40 години\n",
    "- **<font color='green'>Мъжете от всички класи са средно по-възрастни от жените от същата класа [+]</font>**\n",
    "- **<font color='green'> Средно пътниците от първа класа са по-възрастни от тези от 2-ра класа, които са по-възрастни от пътниците от 3-та класа [+]</font>**"
   ]
  },
  {
   "cell_type": "code",
   "execution_count": null,
   "metadata": {},
   "outputs": [],
   "source": [
    "for cl in data[\"Pclass\"].unique():\n",
    "    for sex in data[\"Sex\"].unique():\n",
    "        print(\n",
    "            \"Average age for {0} and class {1}: {2}\".format(\n",
    "                sex,\n",
    "                cl,\n",
    "                round(\n",
    "                    data[(data[\"Sex\"] == sex) & (data[\"Pclass\"] == cl)][\"Age\"].mean(), 2\n",
    "                ),\n",
    "            )\n",
    "        )"
   ]
  },
  {
   "cell_type": "markdown",
   "metadata": {},
   "source": [
    "По-добро:"
   ]
  },
  {
   "cell_type": "code",
   "execution_count": null,
   "metadata": {},
   "outputs": [],
   "source": [
    "for (cl, sex), sub_df in data.groupby([\"Pclass\", \"Sex\"]):\n",
    "    print(\n",
    "        \"Average age for {0} and class {1}: {2}\".format(\n",
    "            sex, cl, round(sub_df[\"Age\"].mean(), 2)\n",
    "        )\n",
    "    )"
   ]
  },
  {
   "cell_type": "markdown",
   "metadata": {},
   "source": [
    "Най-бързо:"
   ]
  },
  {
   "cell_type": "code",
   "execution_count": null,
   "metadata": {},
   "outputs": [],
   "source": [
    "pd.crosstab(data[\"Pclass\"], data[\"Sex\"], values=data[\"Age\"], aggfunc=np.mean)"
   ]
  },
  {
   "cell_type": "code",
   "execution_count": null,
   "metadata": {},
   "outputs": [],
   "source": [
    "sns.boxplot(data[\"Pclass\"], data[\"Age\"]);"
   ]
  },
  {
   "cell_type": "markdown",
   "metadata": {},
   "source": [
    "## Полезни ресурси\n",
    "* Същият бележник като интерактивен уеб базиран [Kaggle Kernel](https://www.kaggle.com/kashnitsky/topic-1-practice-solution)\n",
    "* Тема 1 „Проучвателен анализ на данни с Pandas“ като [ядро на Kaggle](https://www.kaggle.com/kashnitsky/topic-1-exploratory-data-analysis-with-pandas)\n",
    "* Основно ястие [сайт](https://mlcourse.ai), [репо за курс](https://github.com/Yorko/mlcourse.ai) и YouTube [канал](https://www.youtube. com/watch?v=QKTuw4PNOsU&list=PLVlY_7IJCMJeRfZ68eVfEcu-UcN9BbwiX)"
   ]
  },
  {
   "cell_type": "code",
   "execution_count": null,
   "metadata": {},
   "outputs": [],
   "source": []
  }
 ],
 "metadata": {
  "anaconda-cloud": {},
  "kernelspec": {
   "display_name": "Python 3 (ipykernel)",
   "language": "python",
   "name": "python3"
  },
  "language_info": {
   "codemirror_mode": {
    "name": "ipython",
    "version": 3
   },
   "file_extension": ".py",
   "mimetype": "text/x-python",
   "name": "python",
   "nbconvert_exporter": "python",
   "pygments_lexer": "ipython3",
   "version": "3.11.5"
  },
  "name": "seminar02_practice_pandas_titanic.ipynb"
 },
 "nbformat": 4,
 "nbformat_minor": 4
}
