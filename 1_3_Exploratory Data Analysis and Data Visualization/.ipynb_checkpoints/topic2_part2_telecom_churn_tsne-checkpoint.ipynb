{
 "cells": [
  {
   "cell_type": "markdown",
   "metadata": {},
   "source": [
    "<center>\n",
    "<img src=\"../../img/ods_stickers.jpg\">\n",
    "## Отворен курс по машинно обучение\n",
    "Автор на материала: програмист-изследовател в Mail.ru Group, старши преподавател във Факултета по компютърни науки на Висшето училище по икономика Юрий Кашницки. Материалът се разпространява съгласно условията на лиценза [Creative Commons CC BY-NC-SA 4.0](https://creativecommons.org/licenses/by-nc-sa/4.0/). Можете да го използвате за всякакви цели (редактиране, коригиране и използване като основа), освен търговски, но със задължителното споменаване на автора на материала."
   ]
  },
  {
   "cell_type": "markdown",
   "metadata": {},
   "source": [
    "# <center>Тема 2. Визуален анализ на данни с Python\n",
    "## <center>Част 2. Пример за визуален анализ на данни\n",
    "\n",
    "Ние четем в DataFrame данните за изтичането на клиенти на телекомуникационния оператор, с които сме запознати от [първата статия] (https://habrahabr.ru/company/ods/blog/322626/)."
   ]
  },
  {
   "cell_type": "code",
   "execution_count": null,
   "metadata": {},
   "outputs": [],
   "source": [
    "from __future__ import division, print_function\n",
    "\n",
    "# отключим всякие предупреждения Anaconda\n",
    "import warnings\n",
    "\n",
    "warnings.filterwarnings(\"ignore\")\n",
    "import numpy as np\n",
    "import pandas as pd\n",
    "\n",
    "pd.set_option(\"display.max.columns\", 100)\n",
    "import pylab as plt\n",
    "\n",
    "%matplotlib inline\n",
    "import seaborn as sns\n",
    "from matplotlib import pyplot as plt\n",
    "\n",
    "plt.rcParams[\"figure.figsize\"] = (10, 8)"
   ]
  },
  {
   "cell_type": "code",
   "execution_count": null,
   "metadata": {},
   "outputs": [],
   "source": [
    "df = pd.read_csv(\"../../data/telecom_churn.csv\")"
   ]
  },
  {
   "cell_type": "markdown",
   "metadata": {},
   "source": [
    "Нека проверим дали всичко е изчислено правилно - вижте първите 5 реда (методът `head`)."
   ]
  },
  {
   "cell_type": "code",
   "execution_count": null,
   "metadata": {},
   "outputs": [],
   "source": [
    "df.head()"
   ]
  },
  {
   "cell_type": "markdown",
   "metadata": {},
   "source": [
    "Брой редове (клиенти) и колони (функции):"
   ]
  },
  {
   "cell_type": "code",
   "execution_count": null,
   "metadata": {},
   "outputs": [],
   "source": [
    "df.shape"
   ]
  },
  {
   "cell_type": "markdown",
   "metadata": {},
   "source": [
    "Нека да разгледаме знаците и да се уверим, че няма пропуски в нито един от тях - навсякъде има 3333 записа."
   ]
  },
  {
   "cell_type": "code",
   "execution_count": null,
   "metadata": {},
   "outputs": [],
   "source": [
    "df.info()"
   ]
  },
  {
   "cell_type": "markdown",
   "metadata": {},
   "source": [
    "Описание на характеристиките\n",
    "\n",
    "| Заглавие | Описание | Тип |\n",
    "|--- |--: | |\n",
    "| **Държава** | Държавен буквен код | номинален |\n",
    "| **Дължина на акаунта** | От колко време клиента се обслужва от компанията | количествен |\n",
    "| **Код на региона** | Префикс на телефонен номер | количествен |\n",
    "| **Международен план** | Международен роуминг (свързан/несвързан) | двоичен |\n",
    "| **План за гласова поща** | Гласова поща (свързана/несвързана) | двоичен |\n",
    "| **Брой vmail съобщения** | Брой гласови съобщения | количествен |\n",
    "| **Общо минути за деня** | Обща продължителност на разговора през деня | количествен |\n",
    "| **Общо разговори за деня** | Общ брой разговори през деня | количествен |\n",
    "| **Обща такса за деня** | Общо плащане за услуги през деня | количествен |\n",
    "| **Общо минути** | Обща продължителност на разговора вечер | количествен |\n",
    "| **Общо разговори в навечерието** | Общ брой обаждания вечер | количествен |\n",
    "| **Обща такса за навечерието** | Общо плащане за услугите вечер | количествен |\n",
    "| **Общо нощни минути** | Обща продължителност на разговора през нощта | количествен |\n",
    "| **Общо нощни разговори** | Общ брой повиквания през нощта | количествен |\n",
    "| **Обща нощувка** | Обща сума на плащане за услуги през нощта | количествен |\n",
    "| **Общо инт. минути** | Обща продължителност на международните разговори | количествен |\n",
    "| **Общо международни разговори** | Общ брой международни разговори | количествен |\n",
    "| **Общо международен разход** | Обща сума на плащане за международни разговори | количествен |\n",
    "| **Обаждания за обслужване на клиенти** | Брой обаждания до сервизния център | количествен |\n",
    "\n",
    "Целева променлива: **Churn** – Знак за отлив, двоичен (1 – загуба на клиент, т.е. отлив). След това ще изградим модели, които предвиждат тази характеристика въз основа на другите, поради което я нарекохме цел."
   ]
  },
  {
   "cell_type": "markdown",
   "metadata": {},
   "source": [
    "Нека да разгледаме разпределението на целевия клас - отлив на клиенти."
   ]
  },
  {
   "cell_type": "code",
   "execution_count": null,
   "metadata": {},
   "outputs": [],
   "source": [
    "df[\"Churn\"].value_counts()"
   ]
  },
  {
   "cell_type": "code",
   "execution_count": null,
   "metadata": {},
   "outputs": [],
   "source": [
    "df[\"Churn\"].value_counts().plot(kind=\"bar\", label=\"Churn\")\n",
    "plt.legend()\n",
    "plt.title(\"Распределение оттока клиентов\");"
   ]
  },
  {
   "cell_type": "markdown",
   "metadata": {},
   "source": [
    "Нека подчертаем следните групи функции (с изключение на *Churn*):\n",
    " - двоичен: *Международен план*, *План за гласова поща*\n",
    " - категоричен: *Държава*\n",
    " - редни: *Обаждания от обслужване на клиенти*\n",
    " - количествени: всички останали"
   ]
  },
  {
   "cell_type": "markdown",
   "metadata": {},
   "source": [
    "Нека да разгледаме корелациите на количествените характеристики. Цветната корелационна матрица показва, че функции като *Обща дневна такса* се изчисляват на базата на изговорени минути (*Общо дневни минути*). Тоест, 4 знака могат да бъдат изхвърлени, те не носят полезна информация."
   ]
  },
  {
   "cell_type": "code",
   "execution_count": null,
   "metadata": {},
   "outputs": [],
   "source": [
    "corr_matrix = df.drop(\n",
    "    [\"State\", \"International plan\", \"Voice mail plan\", \"Area code\"], axis=1\n",
    ").corr()"
   ]
  },
  {
   "cell_type": "code",
   "execution_count": null,
   "metadata": {},
   "outputs": [],
   "source": [
    "sns.heatmap(corr_matrix);"
   ]
  },
  {
   "cell_type": "markdown",
   "metadata": {},
   "source": [
    "Сега нека разгледаме разпределенията на всички количествени характеристики, които ни интересуват. Ще разгледаме бинарните/категориалните/ординалните характеристики отделно."
   ]
  },
  {
   "cell_type": "code",
   "execution_count": null,
   "metadata": {},
   "outputs": [],
   "source": [
    "features = list(\n",
    "    set(df.columns)\n",
    "    - set(\n",
    "        [\n",
    "            \"State\",\n",
    "            \"International plan\",\n",
    "            \"Voice mail plan\",\n",
    "            \"Area code\",\n",
    "            \"Total day charge\",\n",
    "            \"Total eve charge\",\n",
    "            \"Total night charge\",\n",
    "            \"Total intl charge\",\n",
    "            \"Churn\",\n",
    "        ]\n",
    "    )\n",
    ")\n",
    "\n",
    "df[features].hist(figsize=(20, 12));"
   ]
  },
  {
   "cell_type": "markdown",
   "metadata": {},
   "source": [
    "Виждаме, че повечето функции се разпространяват нормално. Изключения са броят на обажданията до сервизния център (*Обаждания за обслужване на клиенти*) (тук е по-подходящо разпределението на Поасон) и броят гласови съобщения (*Брой vmail съобщения*, пик при нула, т.е. това са тези, които нямат свързана гласова поща) . Разпределението на броя на международните разговори (*Общо международни разговори*) също е изместено."
   ]
  },
  {
   "cell_type": "markdown",
   "metadata": {},
   "source": [
    "Също така е полезно да се създават картини като тази, където разпределенията на характеристиките са начертани по главния диагонал и диаграми на разсейване за двойки характеристики извън главния диагонал. Случва се това да води до някакви заключения, но в този случай всичко е приблизително ясно, без изненади."
   ]
  },
  {
   "cell_type": "code",
   "execution_count": null,
   "metadata": {},
   "outputs": [],
   "source": [
    "sns.pairplot(df[features + [\"Churn\"]], hue=\"Churn\");"
   ]
  },
  {
   "cell_type": "markdown",
   "metadata": {},
   "source": [
    "**След това нека видим как знаците са свързани с целта – отлив.**\n",
    "\n"
   ]
  },
  {
   "cell_type": "markdown",
   "metadata": {},
   "source": [
    "Нека да изградим boxplots, които описват статистика на разпределението на количествените характеристики в две групи: сред лоялни и напуснали клиенти."
   ]
  },
  {
   "cell_type": "code",
   "execution_count": null,
   "metadata": {},
   "outputs": [],
   "source": [
    "fig, axes = plt.subplots(nrows=3, ncols=4, figsize=(16, 10))\n",
    "\n",
    "for idx, feat in enumerate(features):\n",
    "    sns.boxplot(x=\"Churn\", y=feat, data=df, ax=axes[int(idx / 4), idx % 4])\n",
    "    axes[int(idx / 4), idx % 4].legend()\n",
    "    axes[int(idx / 4), idx % 4].set_xlabel(\"Churn\")\n",
    "    axes[int(idx / 4), idx % 4].set_ylabel(feat);"
   ]
  },
  {
   "cell_type": "markdown",
   "metadata": {},
   "source": [
    "На око виждаме най-голяма разлика за атрибутите *Общо дневни минути*, *Обаждания за обслужване на клиенти* и *Брой vmail съобщения*. Впоследствие ще се научим да определяме важността на характеристиките в класификационен проблем, използвайки произволна гора (или градиентно усилване) и се оказва, че първите две наистина са много важни характеристики за прогнозиране на отлив."
   ]
  },
  {
   "cell_type": "markdown",
   "metadata": {},
   "source": [
    "Нека да разгледаме поотделно снимките с разпределението на минутите разговори през деня между лоялни/леви. Отляво са познатите боксплоти, отдясно са изгладени хистограми на разпределението на числов атрибут в две групи (по-скоро просто красива картина, всичко вече е ясно от боксплота).\n",
    "\n",
    "Интересно **наблюдение:** средно напусналите клиенти използват връзката повече. Може би те са недоволни от тарифите и една от мерките за борба с изтичането ще бъде намаляването на тарифните ставки (цената на мобилните комуникации). Но компанията ще трябва да проведе допълнителен икономически анализ, за ​​да определи дали подобни мерки наистина ще бъдат оправдани."
   ]
  },
  {
   "cell_type": "code",
   "execution_count": null,
   "metadata": {},
   "outputs": [],
   "source": [
    "_, axes = plt.subplots(1, 2, sharey=True, figsize=(16, 6))\n",
    "\n",
    "sns.boxplot(x=\"Churn\", y=\"Total day minutes\", data=df, ax=axes[0])\n",
    "sns.violinplot(x=\"Churn\", y=\"Total day minutes\", data=df, ax=axes[1]);"
   ]
  },
  {
   "cell_type": "markdown",
   "metadata": {},
   "source": [
    "Сега нека изобразим разпределението на броя обаждания до сервизния център (построихме такава картина в първата статия). Няма много уникални стойности на атрибута (атрибутът може да се счита или за количествено цяло число, или за порядък) и е по-ясно да се изобрази разпределението с помощта на `countplot`. **Наблюдение:** степента на оттегляне се увеличава значително след 4 обаждания до сервизния център."
   ]
  },
  {
   "cell_type": "code",
   "execution_count": null,
   "metadata": {},
   "outputs": [],
   "source": [
    "sns.countplot(x=\"Customer service calls\", hue=\"Churn\", data=df);"
   ]
  },
  {
   "cell_type": "markdown",
   "metadata": {},
   "source": [
    "Сега нека разгледаме връзката между двоичните атрибути *Международен план* и *План за гласова поща* с изходящ поток. **Наблюдение**: Когато роумингът е активиран, процентът на напускане е много по-висок, т.е. наличието на международен роуминг е силен знак. Не може да се каже същото за гласовата поща."
   ]
  },
  {
   "cell_type": "code",
   "execution_count": null,
   "metadata": {},
   "outputs": [],
   "source": [
    "_, axes = plt.subplots(1, 2, sharey=True, figsize=(16, 6))\n",
    "\n",
    "sns.countplot(x=\"International plan\", hue=\"Churn\", data=df, ax=axes[0])\n",
    "sns.countplot(x=\"Voice mail plan\", hue=\"Churn\", data=df, ax=axes[1]);"
   ]
  },
  {
   "cell_type": "markdown",
   "metadata": {},
   "source": [
    "И накрая, нека да разгледаме как категоричният атрибут *State* е свързан с оттока. Вече не е толкова приятно да се работи, тъй като броят на уникалните състояния е доста голям - 51. Първо можете да изградите обобщена таблица или да изчислите процента на изтичане за всяко състояние. Но виждаме, че няма достатъчно данни за всяко състояние поотделно (има само 3 до 17 липсващи състояния), така че може би атрибутът *State* не трябва да се добавя към класификационните модели по-късно поради риска от *пренастройване* (но ще проверим това при *кръстосано валидиране*, следете!).\n"
   ]
  },
  {
   "cell_type": "code",
   "execution_count": null,
   "metadata": {},
   "outputs": [],
   "source": [
    "pd.crosstab(df[\"State\"], df[\"Churn\"]).T"
   ]
  },
  {
   "cell_type": "markdown",
   "metadata": {},
   "source": [
    "Изходящи дялове за всеки щат:"
   ]
  },
  {
   "cell_type": "code",
   "execution_count": null,
   "metadata": {},
   "outputs": [],
   "source": [
    "df.groupby([\"State\"])[\"Churn\"].agg([np.mean]).sort_values(by=\"mean\", ascending=False).T"
   ]
  },
  {
   "cell_type": "markdown",
   "metadata": {},
   "source": [
    "Вижда се, че в Ню Джърси и Калифорния делът на оттока е над 25%, а в Хавай и Аляска е под 5%. Но тези заключения се основават на твърде скромна статистика и може би това са просто характеристики на наличните данни (тук можете също да тествате хипотези за корелациите на Матюс и Крамър, но това е извън обхвата на тази статия)."
   ]
  },
  {
   "cell_type": "markdown",
   "metadata": {},
   "source": [
    "И накрая, нека изградим t-SNE представяне на данните. Името на метода е сложно - t-разпределено Stohastic Neighbor Embedding, математиката също е страхотна (и няма да се задълбочаваме в нея), но основната идея е проста като врата: нека намерим такова картографиране от многомерен пространствени характеристики към равнина (или в 3D, но почти винаги избирайте 2D), така че точките, които са били далеч една от друга в равнината, също се оказват отдалечени, а близките точки също са картографирани към близки. Тоест вграждането на съсед е вид търсене на ново представяне на данни, което запазва съседството.\n",
    " \n",
    "Няколко подробности: нека изхвърлим състоянията и знака за изтичане, преобразуваме двоичните знаци Да/Не в числа (използвайки [`pandas.Series.map`](http://pandas.pydata.org/pandas-docs/stable /generated/pandas .Series.map.html)). Трябва също така да мащабирате извадката - извадете нейната средна стойност от всяка характеристика и разделете на стандартното отклонение, това се прави от `StandardScaler`."
   ]
  },
  {
   "cell_type": "code",
   "execution_count": null,
   "metadata": {},
   "outputs": [],
   "source": [
    "from sklearn.manifold import TSNE\n",
    "from sklearn.preprocessing import StandardScaler"
   ]
  },
  {
   "cell_type": "code",
   "execution_count": null,
   "metadata": {},
   "outputs": [],
   "source": [
    "# преобразуем все признаки в числовые, выкинув штаты\n",
    "X = df.drop([\"Churn\", \"State\"], axis=1)\n",
    "X[\"International plan\"] = X[\"International plan\"].map({\"Yes\": 1, \"No\": 0})\n",
    "X[\"Voice mail plan\"] = X[\"Voice mail plan\"].map({\"Yes\": 1, \"No\": 0})\n",
    "\n",
    "scaler = StandardScaler()\n",
    "X_scaled = scaler.fit_transform(X)"
   ]
  },
  {
   "cell_type": "code",
   "execution_count": null,
   "metadata": {},
   "outputs": [],
   "source": [
    "%%time\n",
    "tsne = TSNE(random_state=17)\n",
    "tsne_representation = tsne.fit_transform(X_scaled)"
   ]
  },
  {
   "cell_type": "code",
   "execution_count": null,
   "metadata": {},
   "outputs": [],
   "source": [
    "plt.scatter(tsne_representation[:, 0], tsne_representation[:, 1]);"
   ]
  },
  {
   "cell_type": "markdown",
   "metadata": {},
   "source": [
    "Нека оцветим полученото t-SNE представяне на данни за отлив (синьо – лоялни, оранжево – напуснали клиенти)."
   ]
  },
  {
   "cell_type": "code",
   "execution_count": null,
   "metadata": {},
   "outputs": [],
   "source": [
    "plt.scatter(\n",
    "    tsne_representation[:, 0],\n",
    "    tsne_representation[:, 1],\n",
    "    c=df[\"Churn\"].map({0: \"blue\", 1: \"orange\"}),\n",
    ");"
   ]
  },
  {
   "cell_type": "markdown",
   "metadata": {},
   "source": [
    "Виждаме, че напусналите клиенти са предимно „групирани“ в някои области на пространството на функциите."
   ]
  },
  {
   "cell_type": "markdown",
   "metadata": {},
   "source": [
    "За да разберете по-добре картината, можете да я оцветите и според други бинарни характеристики - роуминг и гласова поща. Сините области съответстват на обекти, които имат тази двоична функция."
   ]
  },
  {
   "cell_type": "code",
   "execution_count": null,
   "metadata": {},
   "outputs": [],
   "source": [
    "_, axes = plt.subplots(1, 2, sharey=True, figsize=(16, 6))\n",
    "\n",
    "axes[0].scatter(\n",
    "    tsne_representation[:, 0],\n",
    "    tsne_representation[:, 1],\n",
    "    c=df[\"International plan\"].map({\"Yes\": \"blue\", \"No\": \"orange\"}),\n",
    ")\n",
    "axes[1].scatter(\n",
    "    tsne_representation[:, 0],\n",
    "    tsne_representation[:, 1],\n",
    "    c=df[\"Voice mail plan\"].map({\"Yes\": \"blue\", \"No\": \"orange\"}),\n",
    ")\n",
    "axes[0].set_title(\"International plan\")\n",
    "axes[1].set_title(\"Voice mail plan\");"
   ]
  },
  {
   "cell_type": "markdown",
   "metadata": {},
   "source": [
    "Сега е ясно, че например много напуснали клиенти са групирани в левия клъстер от хора с активиран роуминг, но без гласова поща.\n"
   ]
  },
  {
   "cell_type": "markdown",
   "metadata": {},
   "source": [
    "И накрая, нека да отбележим недостатъците на t-SNE (да, също е по-добре да напишете отделна статия за него):\n",
    " - висока изчислителна сложност. Тази реализация на sklearn най-вероятно няма да помогне в реалната ви задача; за по-големи проби трябва да погледнете към [Multicore-TSNE](https://github.com/DmitryUlyanov/Multicore-TSNE);\n",
    " - картината може да се промени значително при промяна на `произволното семе`, това усложнява тълкуването. [Тук](http://distill.pub/2016/misread-tsne/) има добър урок за t-SNE. Но като цяло не трябва да правите дълбоки заключения от такива снимки - не трябва да гадаете по утайката от кафе. Понякога нещо хваща окото и се потвърждава при преглед, но това не се случва често.\n",
    " \n",
    "Ето още няколко снимки. С t-SNE наистина можете да получите добър изглед на данните (както в случая с ръкописни числа, [тук](https://colah.github.io/posts/2014-10-Visualizing-MNIST/) е добра статия), така че и просто нарисувайте играчка за коледно дърво.\n",
    "\n",
    "<img src='../../img/tsne_mnist.png' />\n",
    "\n",
    "<img src='../../img/tsne_christmas_toy.jpg'/>"
   ]
  },
  {
   "cell_type": "code",
   "execution_count": null,
   "metadata": {},
   "outputs": [],
   "source": []
  }
 ],
 "metadata": {
  "kernelspec": {
   "display_name": "Python 3 (ipykernel)",
   "language": "python",
   "name": "python3"
  },
  "language_info": {
   "codemirror_mode": {
    "name": "ipython",
    "version": 3
   },
   "file_extension": ".py",
   "mimetype": "text/x-python",
   "name": "python",
   "nbconvert_exporter": "python",
   "pygments_lexer": "ipython3",
   "version": "3.11.5"
  }
 },
 "nbformat": 4,
 "nbformat_minor": 4
}
